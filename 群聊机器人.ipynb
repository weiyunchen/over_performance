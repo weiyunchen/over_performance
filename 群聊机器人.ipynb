{
 "cells": [
  {
   "cell_type": "markdown",
   "metadata": {},
   "source": [
    "# 测试bot"
   ]
  },
  {
   "cell_type": "markdown",
   "metadata": {},
   "source": [
    "图文链接"
   ]
  },
  {
   "cell_type": "code",
   "execution_count": 7,
   "metadata": {},
   "outputs": [
    {
     "name": "stdout",
     "output_type": "stream",
     "text": [
      "{\"errcode\":0,\"errmsg\":\"ok\"}\n"
     ]
    }
   ],
   "source": [
    "import requests\n",
    " \n",
    " \n",
    "def test_robot(message1, message2):\n",
    "   headers = {\"Content-Type\": \"text/plain\"}\n",
    "   data = {\n",
    "        \"msgtype\": \"news\",\n",
    "        \"news\": {\n",
    "           \"articles\" : [\n",
    "               {\n",
    "                   \"title\" : \"IM聊天锦囊\",\n",
    "                   \"description\" : \"学习并完成考试后截图\",\n",
    "                   \"url\" : \"http://lianjia.yunxuetang.cn/kng/view/package/c84d12f51e284943a52e3b6f8e3dc576.html\",\n",
    "                   \"picurl\" : \"https://picobd.yunxuetang.cn/kng/lianjiahouse/images/202002/19d80a4aefaa4bf3aaa826e43aa625db.png\"\n",
    "               }\n",
    "            ]\n",
    "        }\n",
    "    }\n",
    "   ret = requests.post(\n",
    "      url=\"https://qyapi.weixin.qq.com/cgi-bin/webhook/send?key=6aaa8893-24b3-4d07-a022-dd7425865bdf\", \n",
    "      # 此处为新建机器人以后生成的链接\n",
    "      headers=headers, \n",
    "      json=data\n",
    "   )\n",
    "   print(ret.text)  # 成功后的打印结果：{\"errcode\":0,\"errmsg\":\"ok\"}\n",
    " \n",
    "if __name__ == '__main__':\n",
    "    test_robot(\"123456\", \"123456\")"
   ]
  },
  {
   "cell_type": "code",
   "execution_count": null,
   "metadata": {},
   "outputs": [],
   "source": [
    "import requests\n",
    " \n",
    " \n",
    "def test_robot(message1, message2):\n",
    "   headers = {\"Content-Type\": \"text/plain\"}\n",
    "   message='''⏰今天的目标完成了吗🆙\\n\n",
    "【IM录入】录入一个客户，总录入率25%\\n\n",
    "【VR带看】成功有效VR带看一组\\n\n",
    "【6项房评】100%完成\\n\n",
    "【业主自荐】完成一套，总共达到60%\\n\n",
    "【议价改价】完成一套\\n\n",
    "【码上有客】多渠道推广蓄客\\n\n",
    "每天进步一点点，成交不再难，加油亲爱的伙伴们[愉快]@所有人  '''.format({str(message1)},{str(message2)})\n",
    "   data = {\n",
    "      \"msgtype\": \"text\",\n",
    "      \"text\": {\"content\": message}\n",
    "   }\n",
    "   ret = requests.post(\n",
    "      url=\"https://qyapi.weixin.qq.com/cgi-bin/webhook/send?key=6aaa8893-24b3-4d07-a022-dd7425865bdf\", \n",
    "         # 此处为新建机器人以后生成的链接\n",
    "      headers=headers, \n",
    "      json=data\n",
    "   )\n",
    "   print(ret.text)  # 成功后的打印结果：{\"errcode\":0,\"errmsg\":\"ok\"}\n",
    " \n",
    "if __name__ == '__main__':\n",
    "    test_robot(\"123456\", \"123456\")"
   ]
  },
  {
   "cell_type": "code",
   "execution_count": null,
   "metadata": {},
   "outputs": [],
   "source": [
    "import requests\n",
    "import base64\n",
    "import hashlib\n",
    " \n",
    "# 企业微信机器人发送消息\n",
    "url = \"https://qyapi.weixin.qq.com/cgi-bin/webhook/send?key=6aaa8893-24b3-4d07-a022-dd7425865bdf\"\n",
    "headers = {\"Content-Type\": \"text/plain\"}\n",
    "data = {\n",
    "    \"msgtype\": \"news\",\n",
    "    \"news\": {\n",
    "       \"articles\" : [\n",
    "           {\n",
    "               \"title\" : \"IM聊天锦囊\",\n",
    "               \"description\" : \"学习并完成考试后截图\",\n",
    "               \"url\" : \"http://lianjia.yunxuetang.cn/kng/view/package/c84d12f51e284943a52e3b6f8e3dc576.html\",\n",
    "               \"picurl\" : \"https://picobd.yunxuetang.cn/kng/lianjiahouse/images/202002/19d80a4aefaa4bf3aaa826e43aa625db.png\"\n",
    "           }\n",
    "        ]\n",
    "    }\n",
    "}\n",
    "\n",
    "r = requests.post(url, headers=headers, json=data)\n",
    "print(r.text)"
   ]
  }
 ],
 "metadata": {
  "kernelspec": {
   "display_name": "Python 3",
   "language": "python",
   "name": "python3"
  },
  "language_info": {
   "codemirror_mode": {
    "name": "ipython",
    "version": 3
   },
   "file_extension": ".py",
   "mimetype": "text/x-python",
   "name": "python",
   "nbconvert_exporter": "python",
   "pygments_lexer": "ipython3",
   "version": "3.7.4"
  }
 },
 "nbformat": 4,
 "nbformat_minor": 4
}
